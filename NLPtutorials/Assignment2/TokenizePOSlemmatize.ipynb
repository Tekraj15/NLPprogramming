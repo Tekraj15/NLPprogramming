{
 "cells": [
  {
   "cell_type": "code",
   "execution_count": 1,
   "metadata": {},
   "outputs": [
    {
     "name": "stdout",
     "output_type": "stream",
     "text": [
      "Collecting autocorrect\n",
      "  Downloading autocorrect-2.2.2.tar.gz (621 kB)\n",
      "Building wheels for collected packages: autocorrect\n",
      "  Building wheel for autocorrect (setup.py): started\n",
      "  Building wheel for autocorrect (setup.py): finished with status 'done'\n",
      "  Created wheel for autocorrect: filename=autocorrect-2.2.2-py3-none-any.whl size=621495 sha256=696383f9accd278e2022350beb626883bc244794f8a9eeb23bcce9dc73c8f6ef\n",
      "  Stored in directory: c:\\users\\tek raj awasthi\\appdata\\local\\pip\\cache\\wheels\\c8\\25\\29\\231a68c05a2ef4828561115ebba1f80fad2257b1cc24b9e17d\n",
      "Successfully built autocorrect\n",
      "Installing collected packages: autocorrect\n",
      "Successfully installed autocorrect-2.2.2\n",
      "Note: you may need to restart the kernel to use updated packages.\n"
     ]
    }
   ],
   "source": [
    "pip install autocorrect"
   ]
  },
  {
   "cell_type": "code",
   "execution_count": 2,
   "metadata": {},
   "outputs": [
    {
     "name": "stderr",
     "output_type": "stream",
     "text": [
      "[nltk_data] Downloading package punkt to C:\\Users\\Tek Raj\n",
      "[nltk_data]     Awasthi\\AppData\\Roaming\\nltk_data...\n",
      "[nltk_data]   Package punkt is already up-to-date!\n",
      "[nltk_data] Downloading package averaged_perceptron_tagger to\n",
      "[nltk_data]     C:\\Users\\Tek Raj Awasthi\\AppData\\Roaming\\nltk_data...\n",
      "[nltk_data]   Unzipping taggers\\averaged_perceptron_tagger.zip.\n",
      "[nltk_data] Downloading package stopwords to C:\\Users\\Tek Raj\n",
      "[nltk_data]     Awasthi\\AppData\\Roaming\\nltk_data...\n",
      "[nltk_data]   Package stopwords is already up-to-date!\n",
      "[nltk_data] Downloading package wordnet to C:\\Users\\Tek Raj\n",
      "[nltk_data]     Awasthi\\AppData\\Roaming\\nltk_data...\n",
      "[nltk_data]   Unzipping corpora\\wordnet.zip.\n"
     ]
    }
   ],
   "source": [
    "import nltk\n",
    "nltk.download('punkt')\n",
    "nltk.download('averaged_perceptron_tagger')\n",
    "nltk.download('stopwords')\n",
    "nltk.download('wordnet')\n",
    "from nltk import word_tokenize\n",
    "from nltk.stem.wordnet import WordNetLemmatizer\n",
    "from nltk.corpus import stopwords\n",
    "from autocorrect import spell\n",
    "from nltk.wsd import lesk\n",
    "from nltk.tokenize import sent_tokenize\n",
    "import string"
   ]
  },
  {
   "cell_type": "code",
   "execution_count": 3,
   "metadata": {},
   "outputs": [],
   "source": [
    "sentence = open(\"data_ch1/file.txt\", \"r\").read()"
   ]
  },
  {
   "cell_type": "code",
   "execution_count": 5,
   "metadata": {},
   "outputs": [
    {
     "name": "stdout",
     "output_type": "stream",
     "text": [
      "['Tek', 'Raj', 'Awasthi', 'is', 'a', 'passionate', 'AI/ML', 'developer', 'and', 'Data', 'Science', 'enthusiastic', '.', 'He', 'is', 'creative', 'writer', ',', 'quick', 'learner', 'and', 'motivational', 'speaker', '.', 'Tek', 'raj', ',', 'through', 'ups', 'and', 'downs', 'has', 'learnt', 'so', 'many', 'things', 'in', 'life', '.', 'He', 'is', 'guy', 'having', 'prepared', 'scheme', 'of', 'things', 'for', 'what', \"'s\"]\n"
     ]
    }
   ],
   "source": [
    "words = word_tokenize(sentence)\n",
    "print(words[0:50])"
   ]
  },
  {
   "cell_type": "code",
   "execution_count": 6,
   "metadata": {},
   "outputs": [
    {
     "name": "stdout",
     "output_type": "stream",
     "text": [
      "autocorrect.spell is deprecated,             use autocorrect.Speller instead\n",
      "autocorrect.spell is deprecated,             use autocorrect.Speller instead\n",
      "autocorrect.spell is deprecated,             use autocorrect.Speller instead\n",
      "Awasthi has been corrected to: Arashi\n",
      "autocorrect.spell is deprecated,             use autocorrect.Speller instead\n",
      "autocorrect.spell is deprecated,             use autocorrect.Speller instead\n",
      "autocorrect.spell is deprecated,             use autocorrect.Speller instead\n",
      "autocorrect.spell is deprecated,             use autocorrect.Speller instead\n",
      "AI/ML has been corrected to: A/ML\n",
      "autocorrect.spell is deprecated,             use autocorrect.Speller instead\n",
      "autocorrect.spell is deprecated,             use autocorrect.Speller instead\n",
      "autocorrect.spell is deprecated,             use autocorrect.Speller instead\n",
      "autocorrect.spell is deprecated,             use autocorrect.Speller instead\n",
      "autocorrect.spell is deprecated,             use autocorrect.Speller instead\n",
      "autocorrect.spell is deprecated,             use autocorrect.Speller instead\n",
      "autocorrect.spell is deprecated,             use autocorrect.Speller instead\n",
      "autocorrect.spell is deprecated,             use autocorrect.Speller instead\n",
      "autocorrect.spell is deprecated,             use autocorrect.Speller instead\n",
      "autocorrect.spell is deprecated,             use autocorrect.Speller instead\n",
      "autocorrect.spell is deprecated,             use autocorrect.Speller instead\n",
      "autocorrect.spell is deprecated,             use autocorrect.Speller instead\n",
      "autocorrect.spell is deprecated,             use autocorrect.Speller instead\n",
      "autocorrect.spell is deprecated,             use autocorrect.Speller instead\n",
      "autocorrect.spell is deprecated,             use autocorrect.Speller instead\n",
      "autocorrect.spell is deprecated,             use autocorrect.Speller instead\n",
      "autocorrect.spell is deprecated,             use autocorrect.Speller instead\n",
      "autocorrect.spell is deprecated,             use autocorrect.Speller instead\n",
      "autocorrect.spell is deprecated,             use autocorrect.Speller instead\n",
      "autocorrect.spell is deprecated,             use autocorrect.Speller instead\n",
      "autocorrect.spell is deprecated,             use autocorrect.Speller instead\n",
      "autocorrect.spell is deprecated,             use autocorrect.Speller instead\n",
      "autocorrect.spell is deprecated,             use autocorrect.Speller instead\n",
      "autocorrect.spell is deprecated,             use autocorrect.Speller instead\n",
      "autocorrect.spell is deprecated,             use autocorrect.Speller instead\n",
      "autocorrect.spell is deprecated,             use autocorrect.Speller instead\n",
      "autocorrect.spell is deprecated,             use autocorrect.Speller instead\n",
      "autocorrect.spell is deprecated,             use autocorrect.Speller instead\n",
      "autocorrect.spell is deprecated,             use autocorrect.Speller instead\n",
      "autocorrect.spell is deprecated,             use autocorrect.Speller instead\n",
      "autocorrect.spell is deprecated,             use autocorrect.Speller instead\n",
      "autocorrect.spell is deprecated,             use autocorrect.Speller instead\n",
      "autocorrect.spell is deprecated,             use autocorrect.Speller instead\n",
      "autocorrect.spell is deprecated,             use autocorrect.Speller instead\n",
      "autocorrect.spell is deprecated,             use autocorrect.Speller instead\n",
      "autocorrect.spell is deprecated,             use autocorrect.Speller instead\n",
      "autocorrect.spell is deprecated,             use autocorrect.Speller instead\n",
      "autocorrect.spell is deprecated,             use autocorrect.Speller instead\n",
      "autocorrect.spell is deprecated,             use autocorrect.Speller instead\n",
      "autocorrect.spell is deprecated,             use autocorrect.Speller instead\n",
      "autocorrect.spell is deprecated,             use autocorrect.Speller instead\n",
      "autocorrect.spell is deprecated,             use autocorrect.Speller instead\n",
      "autocorrect.spell is deprecated,             use autocorrect.Speller instead\n",
      "autocorrect.spell is deprecated,             use autocorrect.Speller instead\n",
      "autocorrect.spell is deprecated,             use autocorrect.Speller instead\n",
      "autocorrect.spell is deprecated,             use autocorrect.Speller instead\n",
      "autocorrect.spell is deprecated,             use autocorrect.Speller instead\n",
      "unpredicted has been corrected to: predicted\n",
      "autocorrect.spell is deprecated,             use autocorrect.Speller instead\n",
      "autocorrect.spell is deprecated,             use autocorrect.Speller instead\n",
      "autocorrect.spell is deprecated,             use autocorrect.Speller instead\n",
      "autocorrect.spell is deprecated,             use autocorrect.Speller instead\n",
      "autocorrect.spell is deprecated,             use autocorrect.Speller instead\n",
      "autocorrect.spell is deprecated,             use autocorrect.Speller instead\n",
      "autocorrect.spell is deprecated,             use autocorrect.Speller instead\n",
      "autocorrect.spell is deprecated,             use autocorrect.Speller instead\n",
      "autocorrect.spell is deprecated,             use autocorrect.Speller instead\n",
      "autocorrect.spell is deprecated,             use autocorrect.Speller instead\n",
      "autocorrect.spell is deprecated,             use autocorrect.Speller instead\n",
      "autocorrect.spell is deprecated,             use autocorrect.Speller instead\n",
      "autocorrect.spell is deprecated,             use autocorrect.Speller instead\n",
      "autocorrect.spell is deprecated,             use autocorrect.Speller instead\n",
      "autocorrect.spell is deprecated,             use autocorrect.Speller instead\n",
      "autocorrect.spell is deprecated,             use autocorrect.Speller instead\n",
      "autocorrect.spell is deprecated,             use autocorrect.Speller instead\n",
      "autocorrect.spell is deprecated,             use autocorrect.Speller instead\n",
      "autocorrect.spell is deprecated,             use autocorrect.Speller instead\n",
      "autocorrect.spell is deprecated,             use autocorrect.Speller instead\n",
      "autocorrect.spell is deprecated,             use autocorrect.Speller instead\n",
      "autocorrect.spell is deprecated,             use autocorrect.Speller instead\n",
      "autocorrect.spell is deprecated,             use autocorrect.Speller instead\n",
      "autocorrect.spell is deprecated,             use autocorrect.Speller instead\n",
      "yourslef has been corrected to: yourself\n",
      "autocorrect.spell is deprecated,             use autocorrect.Speller instead\n",
      "autocorrect.spell is deprecated,             use autocorrect.Speller instead\n"
     ]
    }
   ],
   "source": [
    "corrected_sentence = \"\"\n",
    "corrected_word_list = []\n",
    "for wd in words:\n",
    "    if wd not in string.punctuation:\n",
    "        wd_c = spell(wd)\n",
    "        if wd_c != wd:\n",
    "            print(wd+\" has been corrected to: \"+wd_c)\n",
    "            corrected_sentence = corrected_sentence+\" \"+wd_c\n",
    "            corrected_word_list.append(wd_c)\n",
    "        else:\n",
    "            corrected_sentence = corrected_sentence+\" \"+wd\n",
    "            corrected_word_list.append(wd)\n",
    "    else:\n",
    "        corrected_sentence = corrected_sentence + wd\n",
    "        corrected_word_list.append(wd)"
   ]
  },
  {
   "cell_type": "code",
   "execution_count": 7,
   "metadata": {},
   "outputs": [
    {
     "data": {
      "text/plain": [
       "\" Tek Raj Arashi is a passionate A/ML developer and Data Science enthusiastic. He is creative writer, quick learner and motivational speaker. Tek raj, through ups and downs has learnt so many things in life. He is guy having prepared scheme of things for what 's coming next, though people say that future is predicted but he is a bit aware of what 's probably gon na happen next. And yes life is very beautiful, just dont; limit yourself, explore it.\""
      ]
     },
     "execution_count": 7,
     "metadata": {},
     "output_type": "execute_result"
    }
   ],
   "source": [
    "corrected_sentence"
   ]
  },
  {
   "cell_type": "code",
   "execution_count": 8,
   "metadata": {},
   "outputs": [
    {
     "name": "stdout",
     "output_type": "stream",
     "text": [
      "['Tek', 'Raj', 'Arashi', 'is', 'a', 'passionate', 'A/ML', 'developer', 'and', 'Data', 'Science', 'enthusiastic', '.', 'He', 'is', 'creative', 'writer', ',', 'quick', 'learner']\n"
     ]
    }
   ],
   "source": [
    "print(corrected_word_list[0:20])"
   ]
  },
  {
   "cell_type": "code",
   "execution_count": 9,
   "metadata": {},
   "outputs": [
    {
     "name": "stdout",
     "output_type": "stream",
     "text": [
      "[('Tek', 'NNP'), ('Raj', 'NNP'), ('Arashi', 'NNP'), ('is', 'VBZ'), ('a', 'DT'), ('passionate', 'JJ'), ('A/ML', 'NNP'), ('developer', 'NN'), ('and', 'CC'), ('Data', 'NNP'), ('Science', 'NNP'), ('enthusiastic', 'JJ'), ('.', '.'), ('He', 'PRP'), ('is', 'VBZ'), ('creative', 'JJ'), ('writer', 'NN'), (',', ','), ('quick', 'JJ'), ('learner', 'NN'), ('and', 'CC'), ('motivational', 'JJ'), ('speaker', 'NN'), ('.', '.'), ('Tek', 'NNP'), ('raj', 'NN'), (',', ','), ('through', 'IN'), ('ups', 'NNS'), ('and', 'CC'), ('downs', 'NNS'), ('has', 'VBZ'), ('learnt', 'VBN'), ('so', 'RB'), ('many', 'JJ'), ('things', 'NNS'), ('in', 'IN'), ('life', 'NN'), ('.', '.'), ('He', 'PRP'), ('is', 'VBZ'), ('guy', 'JJ'), ('having', 'VBG'), ('prepared', 'JJ'), ('scheme', 'NN'), ('of', 'IN'), ('things', 'NNS'), ('for', 'IN'), ('what', 'WP'), (\"'s\", 'VBZ'), ('coming', 'VBG'), ('next', 'JJ'), (',', ','), ('though', 'IN'), ('people', 'NNS'), ('say', 'VBP'), ('that', 'IN'), ('future', 'JJ'), ('is', 'VBZ'), ('predicted', 'VBN'), ('but', 'CC'), ('he', 'PRP'), ('is', 'VBZ'), ('a', 'DT'), ('bit', 'NN'), ('aware', 'JJ'), ('of', 'IN'), ('what', 'WP'), (\"'s\", 'VBZ'), ('probably', 'RB'), ('gon', 'JJ'), ('na', 'TO'), ('happen', 'VB'), ('next', 'JJ'), ('.', '.'), ('And', 'CC'), ('yes', 'JJ'), ('life', 'NN'), ('is', 'VBZ'), ('very', 'RB'), ('beautiful', 'JJ'), (',', ','), ('just', 'RB'), ('dont', 'NN'), (';', ':'), ('limit', 'CC'), ('yourself', 'PRP'), (',', ','), ('explore', 'VBD'), ('it', 'PRP'), ('.', '.')]\n"
     ]
    }
   ],
   "source": [
    "print(nltk.pos_tag(corrected_word_list))"
   ]
  },
  {
   "cell_type": "code",
   "execution_count": 10,
   "metadata": {},
   "outputs": [
    {
     "data": {
      "text/plain": [
       "['Tek',\n",
       " 'Raj',\n",
       " 'Arashi',\n",
       " 'passionate',\n",
       " 'A/ML',\n",
       " 'developer',\n",
       " 'Data',\n",
       " 'Science',\n",
       " 'enthusiastic',\n",
       " '.',\n",
       " 'He',\n",
       " 'creative',\n",
       " 'writer',\n",
       " ',',\n",
       " 'quick',\n",
       " 'learner',\n",
       " 'motivational',\n",
       " 'speaker',\n",
       " '.',\n",
       " 'Tek']"
      ]
     },
     "execution_count": 10,
     "metadata": {},
     "output_type": "execute_result"
    }
   ],
   "source": [
    "stop_words = stopwords.words('English')\n",
    "corrected_word_list_without_stopwords = []\n",
    "for wd in corrected_word_list:\n",
    "    if wd not in stop_words:\n",
    "        corrected_word_list_without_stopwords.append(wd)\n",
    "corrected_word_list_without_stopwords[:20]"
   ]
  },
  {
   "cell_type": "code",
   "execution_count": 11,
   "metadata": {},
   "outputs": [
    {
     "data": {
      "text/plain": [
       "['tek',\n",
       " 'raj',\n",
       " 'arashi',\n",
       " 'passion',\n",
       " 'a/ml',\n",
       " 'develop',\n",
       " 'data',\n",
       " 'scienc',\n",
       " 'enthusiast',\n",
       " '.',\n",
       " 'He',\n",
       " 'creativ',\n",
       " 'writer',\n",
       " ',',\n",
       " 'quick',\n",
       " 'learner',\n",
       " 'motiv',\n",
       " 'speaker',\n",
       " '.',\n",
       " 'tek']"
      ]
     },
     "execution_count": 11,
     "metadata": {},
     "output_type": "execute_result"
    }
   ],
   "source": [
    "stemmer = nltk.stem.PorterStemmer()\n",
    "corrected_word_list_without_stopwords_stemmed = []\n",
    "for wd in corrected_word_list_without_stopwords:\n",
    "    corrected_word_list_without_stopwords_stemmed.append(stemmer.stem(wd))\n",
    "corrected_word_list_without_stopwords_stemmed[:20]"
   ]
  },
  {
   "cell_type": "code",
   "execution_count": 12,
   "metadata": {},
   "outputs": [
    {
     "data": {
      "text/plain": [
       "['Tek',\n",
       " 'Raj',\n",
       " 'Arashi',\n",
       " 'passionate',\n",
       " 'A/ML',\n",
       " 'developer',\n",
       " 'Data',\n",
       " 'Science',\n",
       " 'enthusiastic',\n",
       " '.',\n",
       " 'He',\n",
       " 'creative',\n",
       " 'writer',\n",
       " ',',\n",
       " 'quick',\n",
       " 'learner',\n",
       " 'motivational',\n",
       " 'speaker',\n",
       " '.',\n",
       " 'Tek']"
      ]
     },
     "execution_count": 12,
     "metadata": {},
     "output_type": "execute_result"
    }
   ],
   "source": [
    "lemmatizer = WordNetLemmatizer()\n",
    "corrected_word_list_without_stopwords_lemmatized = []\n",
    "for wd in corrected_word_list_without_stopwords:\n",
    "    corrected_word_list_without_stopwords_lemmatized.append(lemmatizer.lemmatize(wd))\n",
    "corrected_word_list_without_stopwords_lemmatized[:20]"
   ]
  },
  {
   "cell_type": "code",
   "execution_count": 13,
   "metadata": {},
   "outputs": [
    {
     "name": "stdout",
     "output_type": "stream",
     "text": [
      "[' Tek Raj Arashi is a passionate A/ML developer and Data Science enthusiastic.', 'He is creative writer, quick learner and motivational speaker.', 'Tek raj, through ups and downs has learnt so many things in life.', \"He is guy having prepared scheme of things for what 's coming next, though people say that future is predicted but he is a bit aware of what 's probably gon na happen next.\", 'And yes life is very beautiful, just dont; limit yourself, explore it.']\n"
     ]
    }
   ],
   "source": [
    "print(sent_tokenize(corrected_sentence))"
   ]
  },
  {
   "cell_type": "code",
   "execution_count": null,
   "metadata": {},
   "outputs": [],
   "source": []
  }
 ],
 "metadata": {
  "kernelspec": {
   "display_name": "Python 3",
   "language": "python",
   "name": "python3"
  },
  "language_info": {
   "codemirror_mode": {
    "name": "ipython",
    "version": 3
   },
   "file_extension": ".py",
   "mimetype": "text/x-python",
   "name": "python",
   "nbconvert_exporter": "python",
   "pygments_lexer": "ipython3",
   "version": "3.7.4"
  }
 },
 "nbformat": 4,
 "nbformat_minor": 2
}
